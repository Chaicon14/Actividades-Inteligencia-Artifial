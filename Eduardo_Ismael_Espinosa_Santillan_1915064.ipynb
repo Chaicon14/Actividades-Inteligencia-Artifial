{
  "nbformat": 4,
  "nbformat_minor": 0,
  "metadata": {
    "colab": {
      "provenance": [],
      "toc_visible": true,
      "authorship_tag": "ABX9TyOcfjisS49Kf8gIqdrHz0ut",
      "include_colab_link": true
    },
    "kernelspec": {
      "name": "python3",
      "display_name": "Python 3"
    },
    "language_info": {
      "name": "python"
    }
  },
  "cells": [
    {
      "cell_type": "markdown",
      "metadata": {
        "id": "view-in-github",
        "colab_type": "text"
      },
      "source": [
        "<a href=\"https://colab.research.google.com/github/Chaicon14/Actividades-Inteligencia-Artifial/blob/main/Eduardo_Ismael_Espinosa_Santillan_1915064.ipynb\" target=\"_parent\"><img src=\"https://colab.research.google.com/assets/colab-badge.svg\" alt=\"Open In Colab\"/></a>"
      ]
    },
    {
      "cell_type": "markdown",
      "source": [
        "Ejercicio 1\n"
      ],
      "metadata": {
        "id": "eGHnkZTMk0pG"
      }
    },
    {
      "cell_type": "code",
      "execution_count": 69,
      "metadata": {
        "colab": {
          "base_uri": "https://localhost:8080/"
        },
        "id": "JMznJsotXldI",
        "outputId": "42fa3c77-0a67-431b-fb92-b5a2c48601a0"
      },
      "outputs": [
        {
          "output_type": "stream",
          "name": "stdout",
          "text": [
            "Cual es tu nombre?\n",
            "eduardo\n",
            "Hola eduardo :)\n"
          ]
        }
      ],
      "source": [
        "print(\"Cual es tu nombre?\")\n",
        "nombre= str(input())\n",
        "msg = \"Hola, lo siento no te puedo saludar por tu nombre:C\"\n",
        "\n",
        "if nombre==\"Dayra\" or nombre==\"Eduardo\" or nombre==\"Juan\" or nombre== \"Puga\" :\n",
        " print(msg)\n",
        "else:\n",
        "  print(\"Hola\", nombre,\":)\")"
      ]
    },
    {
      "cell_type": "markdown",
      "source": [
        "Ejercicio 2\n"
      ],
      "metadata": {
        "id": "61fjrFKwqBQD"
      }
    },
    {
      "cell_type": "code",
      "source": [
        "lista= [1,2,3,4,5,6,7,8,9]\n",
        "funcion(lista)"
      ],
      "metadata": {
        "id": "YMHDYejwwrOc"
      },
      "execution_count": null,
      "outputs": []
    },
    {
      "cell_type": "markdown",
      "source": [
        "Ejercicio 3\n"
      ],
      "metadata": {
        "id": "Saloiuu6qUbM"
      }
    },
    {
      "cell_type": "code",
      "source": [
        "lista = (\"hola\",\"este\",\"es\",\"un\",\"ejemplo\")\n",
        "indice = 0\n",
        "while indice <=4:\n",
        "    print (lista[indice])\n",
        "    indice = indice + 1"
      ],
      "metadata": {
        "colab": {
          "base_uri": "https://localhost:8080/"
        },
        "id": "SxPuFe0VpPVO",
        "outputId": "2913db28-3512-4692-8c61-eb0fce5d492a"
      },
      "execution_count": 24,
      "outputs": [
        {
          "output_type": "stream",
          "name": "stdout",
          "text": [
            "hola\n",
            "este\n",
            "es\n",
            "un\n",
            "ejemplo\n"
          ]
        }
      ]
    }
  ]
}